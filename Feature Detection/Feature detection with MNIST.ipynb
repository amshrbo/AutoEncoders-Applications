{
 "cells": [
  {
   "cell_type": "markdown",
   "metadata": {},
   "source": [
    "# Feature detection with stacked auto-encoders"
   ]
  },
  {
   "cell_type": "markdown",
   "metadata": {},
   "source": [
    "## 1. Importing the dataset"
   ]
  },
  {
   "cell_type": "code",
   "execution_count": 6,
   "metadata": {},
   "outputs": [],
   "source": [
    "import numpy as np \n",
    "import matplotlib.pyplot as plt \n",
    "import tensorflow as tf\n",
    "from tensorflow.examples.tutorials.mnist import input_data"
   ]
  },
  {
   "cell_type": "markdown",
   "metadata": {},
   "source": [
    "Note that You sould download the MNIST data or it gonna be downloaded if you don't have it locally"
   ]
  },
  {
   "cell_type": "code",
   "execution_count": 5,
   "metadata": {
    "scrolled": true
   },
   "outputs": [
    {
     "name": "stdout",
     "output_type": "stream",
     "text": [
      "Extracting ./MNIST_data/train-images-idx3-ubyte.gz\n",
      "Extracting ./MNIST_data/train-labels-idx1-ubyte.gz\n",
      "Extracting ./MNIST_data/t10k-images-idx3-ubyte.gz\n",
      "Extracting ./MNIST_data/t10k-labels-idx1-ubyte.gz\n"
     ]
    }
   ],
   "source": [
    "mnist = input_data.read_data_sets('./MNIST_data', one_hot=True)"
   ]
  },
  {
   "cell_type": "code",
   "execution_count": 19,
   "metadata": {},
   "outputs": [
    {
     "name": "stdout",
     "output_type": "stream",
     "text": [
      "(784,)\n"
     ]
    },
    {
     "data": {
      "image/png": "[encoded data removed]",
      "text/plain": [
       "<Figure size 432x288 with 1 Axes>"
      ]
     },
     "metadata": {},
     "output_type": "display_data"
    }
   ],
   "source": [
    "plt.imshow(mnist.train.images[1].reshape(28, 28))\n",
    "print(mnist.train.images[1].shape)"
   ]
  },
  {
   "cell_type": "markdown",
   "metadata": {},
   "source": [
    "## 2. Setting up the Model"
   ]
  },
  {
   "cell_type": "markdown",
   "metadata": {},
   "source": [
    "#### The stacked auto-encoder will gonna be four lyers\n",
    "The Encoding part:\n",
    "- The input layer wich consists of 784 the dimensions of the image as the imgs in MNIST Data and reshape it to (28, 28)\n",
    "- Then the second layer 392 common technique is to use (previous_lyr/2)\n",
    "- Third_lyr 196 neuron \n",
    "\n",
    "The Decoding part:\n",
    "- fourth_lyr 392 neuron\n",
    "- fifth_lyr 784\n",
    "    > Regenerating the input in the output layer"
   ]
  },
  {
   "cell_type": "code",
   "execution_count": 21,
   "metadata": {},
   "outputs": [],
   "source": [
    "num_inputs = 784\n",
    "neurons_h1 = 392\n",
    "neurons_h2 = 196\n",
    "neurons_h3 = neurons_h1\n",
    "num_outputs = num_inputs\n",
    "lr = 0.01\n",
    "act_fn = tf.nn.relu\n",
    "initializer = tf.variance_scaling_initializer() "
   ]
  },
  {
   "cell_type": "markdown",
   "metadata": {},
   "source": [
    "### Our variables and place holders"
   ]
  },
  {
   "cell_type": "code",
   "execution_count": 22,
   "metadata": {},
   "outputs": [],
   "source": [
    "X = tf.placeholder(tf.float32, [None, num_inputs])"
   ]
  },
  {
   "cell_type": "markdown",
   "metadata": {},
   "source": [
    "- Initializing biases with zeros\n",
    "- using the variance scaling initializer to initialize weights"
   ]
  },
  {
   "cell_type": "code",
   "execution_count": 23,
   "metadata": {},
   "outputs": [],
   "source": [
    "w1 = tf.Variable(initializer([num_inputs, neurons_h1]), dtype=tf.float32)\n",
    "w2 = tf.Variable(initializer([neurons_h1, neurons_h2]), dtype=tf.float32)\n",
    "w3 = tf.Variable(initializer([neurons_h2, neurons_h3]), dtype=tf.float32)\n",
    "w4 = tf.Variable(initializer([neurons_h3, num_outputs]), dtype=tf.float32)\n",
    "b1 = tf.Variable(tf.zeros(neurons_h1))\n",
    "b2 = tf.Variable(tf.zeros(neurons_h2))\n",
    "b3 = tf.Variable(tf.zeros(neurons_h3))\n",
    "b4 = tf.Variable(tf.zeros(num_outputs))"
   ]
  },
  {
   "cell_type": "markdown",
   "metadata": {},
   "source": [
    "### Creating the layers"
   ]
  },
  {
   "cell_type": "code",
   "execution_count": 24,
   "metadata": {},
   "outputs": [],
   "source": [
    "hid_lyr1 = act_fn(tf.matmul(X, w1) + b1)\n",
    "hid_lyr2 = act_fn(tf.matmul(hid_lyr1, w2) + b2)\n",
    "hid_lyr3 = act_fn(tf.matmul(hid_lyr2, w3) + b3)\n",
    "output_lyr = act_fn(tf.matmul(hid_lyr3, w4) + b4)"
   ]
  },
  {
   "cell_type": "markdown",
   "metadata": {},
   "source": [
    "### Creating the loss function and the optimizer"
   ]
  },
  {
   "cell_type": "code",
   "execution_count": 25,
   "metadata": {},
   "outputs": [],
   "source": [
    "loss = tf.reduce_mean(tf.square(X - output_lyr))\n",
    "optimizer = tf.train.AdamOptimizer(lr)\n",
    "train = optimizer.minimize(loss)"
   ]
  },
  {
   "cell_type": "code",
   "execution_count": 26,
   "metadata": {},
   "outputs": [],
   "source": [
    "saver = tf.train.Saver()\n",
    "num_epochs = 5\n",
    "batch_sze = 128"
   ]
  },
  {
   "cell_type": "markdown",
   "metadata": {},
   "source": [
    "### Uncomment the next section to retrain the model \n",
    "### Or go to the next step and load the saved one"
   ]
  },
  {
   "cell_type": "code",
   "execution_count": 27,
   "metadata": {},
   "outputs": [],
   "source": [
    "# with tf.Session() as sess:\n",
    "#     sess.run(tf.global_variables_initializer())\n",
    "\n",
    "#     for epoch in range(num_epochs):\n",
    "#         num_batches = (mnist.train.num_examples // batch_sze)\n",
    "#         for _ in range(num_batches):\n",
    "#             X_batch, _ = mnist.train.next_batch(batch_sze)\n",
    "#             sess.run(train, feed_dict={X: X_batch})\n",
    "\n",
    "#         training_loss = loss.eval(feed_dict={X: X_batch})\n",
    "#         print(\"Epoch: {}, Loss: {}\".format(epoch, training_loss))\n",
    "#     saver.save(sess, './savedModel/MnistDS_PCA.ckpt')\n"
   ]
  },
  {
   "cell_type": "markdown",
   "metadata": {},
   "source": [
    "### Loading the model and evaluate over the second hidden layer"
   ]
  },
  {
   "cell_type": "markdown",
   "metadata": {},
   "source": [
    "- Evaluating the model based on Both of the output lyr and the second hidden lyr"
   ]
  },
  {
   "cell_type": "code",
   "execution_count": 32,
   "metadata": {},
   "outputs": [
    {
     "name": "stdout",
     "output_type": "stream",
     "text": [
      "INFO:tensorflow:Restoring parameters from ./savedModel/MnistDS_PCA.ckpt\n"
     ]
    }
   ],
   "source": [
    "num_test_imgs = 10\n",
    "with tf.Session() as sess:\n",
    "    saver.restore(sess, './savedModel/MnistDS_PCA.ckpt')\n",
    "    results = output_lyr.eval(feed_dict={X: mnist.test.images[:num_test_imgs]})\n",
    "    # getting the images by using the hid_lyr2 instead of the output lyer\n",
    "    results_hl2 = hid_lyr2.eval(feed_dict={X: mnist.test.images[:num_test_imgs]})"
   ]
  },
  {
   "cell_type": "markdown",
   "metadata": {},
   "source": [
    "### Visulaization"
   ]
  },
  {
   "cell_type": "code",
   "execution_count": 33,
   "metadata": {},
   "outputs": [
    {
     "data": {
      "image/png": "[encoded data removed]",
      "text/plain": [
       "<Figure size 1440x288 with 30 Axes>"
      ]
     },
     "metadata": {},
     "output_type": "display_data"
    }
   ],
   "source": [
    "#Showing the regenerated images\n",
    "f, a = plt.subplots(3, 10, figsize=(20, 4))\n",
    "for i in range(num_test_imgs):\n",
    "    a[0][i].imshow(np.reshape(mnist.test.images[i], (28, 28))) #In the 1st row we'll see all the test imgs\n",
    "    a[1][i].imshow(np.reshape(results[i], (28, 28))) #In the 2nd row we will see all the result imgs\n",
    "    #Get a good representiation of what the hl2 trying to do\n",
    "    a[2][i].imshow(np.reshape(results_hl2[i], (14, 14))) \n",
    "plt.show()\n"
   ]
  },
  {
   "cell_type": "markdown",
   "metadata": {},
   "source": [
    "- The first row represents the original data\n",
    "- The second row represents the regenrated data by the auto-encoder \n",
    "- The third one represents the featured detected by the second hidden layer"
   ]
  },
  {
   "cell_type": "markdown",
   "metadata": {},
   "source": [
    "Thanks for reading  \n",
    "Hope you enjoyed it\n",
    "Peace ^_^"
   ]
  }
 ],
 "metadata": {
  "kernelspec": {
   "display_name": "Python 3",
   "language": "python",
   "name": "python3"
  },
  "language_info": {
   "codemirror_mode": {
    "name": "ipython",
    "version": 3
   },
   "file_extension": ".py",
   "mimetype": "text/x-python",
   "name": "python",
   "nbconvert_exporter": "python",
   "pygments_lexer": "ipython3",
   "version": "3.6.5"
  }
 },
 "nbformat": 4,
 "nbformat_minor": 2
}
